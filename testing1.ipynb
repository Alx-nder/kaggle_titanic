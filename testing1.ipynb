{
 "cells": [
  {
   "cell_type": "code",
   "execution_count": 24,
   "metadata": {},
   "outputs": [],
   "source": [
    "import pandas as pd\n",
    "import opendatasets as od\n"
   ]
  },
  {
   "cell_type": "code",
   "execution_count": 25,
   "metadata": {},
   "outputs": [],
   "source": [
    "# od.download(\"https://www.kaggle.com/competitions/spaceship-titanic\")"
   ]
  },
  {
   "cell_type": "code",
   "execution_count": 26,
   "metadata": {},
   "outputs": [],
   "source": [
    "raw_data=pd.read_csv('spaceship-titanic/train.csv')\n",
    "# raw_data=raw_data[~raw_data['Cabin'].isnull()]\n",
    "\n"
   ]
  },
  {
   "cell_type": "code",
   "execution_count": 27,
   "metadata": {},
   "outputs": [],
   "source": [
    "ytrain=raw_data['Transported']"
   ]
  },
  {
   "cell_type": "code",
   "execution_count": 28,
   "metadata": {},
   "outputs": [],
   "source": [
    "\n",
    "\n",
    "def clean_dt(raw_data):\n",
    "    return (raw_data\n",
    "    .drop(columns=['Name','PassengerId','Destination','HomePlanet','VIP','Age','Cabin'])\n",
    "    .assign(\n",
    "        RoomService=raw_data.RoomService.fillna(0).replace('nan',0),\n",
    "        CryoSleep=raw_data.CryoSleep.fillna(False),\n",
    "        # VIP=raw_data.VIP.fillna(False).replace('nan',0),\n",
    "        FoodCourt=raw_data.FoodCourt.fillna(0).replace('nan',0),\n",
    "        ShoppingMall=raw_data.ShoppingMall.fillna(0).replace('nan',0),\n",
    "        Spa=raw_data.Spa.fillna(0).replace('nan',0),\n",
    "        VRDeck=raw_data.VRDeck.fillna(0).replace('nan',0),\n",
    "        # Cabin=raw_data.Cabin.str.split('/',expand=True)[2]=='S',\n",
    "        # Age=raw_data.Age.fillna(raw_data.Age.median())\n",
    "        )\n",
    "     \n",
    "    )\n",
    "\n"
   ]
  },
  {
   "cell_type": "code",
   "execution_count": 29,
   "metadata": {},
   "outputs": [],
   "source": [
    " # encoding boolean labels\n",
    "from sklearn import preprocessing\n",
    "\n",
    "def transform_step(raw_data):\n",
    "    label_encoder=preprocessing.LabelEncoder()\n",
    "    raw_data.CryoSleep=label_encoder.fit_transform(raw_data.CryoSleep).astype(int)\n",
    "    # raw_data.Cabin=label_encoder.fit_transform(raw_data.Cabin).astype(int)\n",
    "    # raw_data.VIP=label_encoder.fit_transform(raw_data.VIP)\n",
    "    # raw_data=pd.get_dummies(raw_data,columns=['Destination','HomePlanet'])\n",
    "    return raw_data"
   ]
  },
  {
   "cell_type": "code",
   "execution_count": 30,
   "metadata": {},
   "outputs": [],
   "source": [
    "res_encoder=preprocessing.LabelEncoder()\n",
    "\n",
    "ytrain=res_encoder.fit_transform(ytrain)"
   ]
  },
  {
   "cell_type": "code",
   "execution_count": 31,
   "metadata": {},
   "outputs": [],
   "source": [
    "  \n",
    "Xtrain=clean_dt(raw_data)\n",
    "Xtrain=transform_step(Xtrain)\n",
    "Xtrain.drop(columns=['Transported'],inplace=True)   \n",
    "\n",
    "# cabins=Xtrain.Cabin.str.split('/',expand=True),\n",
    "# cabins"
   ]
  },
  {
   "cell_type": "code",
   "execution_count": 32,
   "metadata": {},
   "outputs": [],
   "source": [
    "raw_test=pd.read_csv('spaceship-titanic/test.csv')\n",
    "# raw_test=raw_test[~raw_test['Cabin'].isnull()]\n",
    "\n",
    "Xtest=clean_dt(raw_test)\n",
    "Xtest=transform_step(Xtest)"
   ]
  },
  {
   "cell_type": "code",
   "execution_count": 33,
   "metadata": {},
   "outputs": [],
   "source": [
    "# Port=Xtrain.Cabin.str.split('/',expand=True)\n",
    "# new_cab=new_cab[2]\n",
    "# S_Cabin= Xtrain.loc[].split()== \"S\"\n",
    "# Xtrain=Xtrain[~Xtrain['Cabin'].isnull()]"
   ]
  },
  {
   "cell_type": "code",
   "execution_count": 34,
   "metadata": {},
   "outputs": [
    {
     "data": {
      "text/plain": [
       "CryoSleep         int32\n",
       "RoomService     float64\n",
       "FoodCourt       float64\n",
       "ShoppingMall    float64\n",
       "Spa             float64\n",
       "VRDeck          float64\n",
       "dtype: object"
      ]
     },
     "execution_count": 34,
     "metadata": {},
     "output_type": "execute_result"
    }
   ],
   "source": [
    "Xtrain.dtypes"
   ]
  },
  {
   "cell_type": "code",
   "execution_count": 35,
   "metadata": {},
   "outputs": [
    {
     "data": {
      "text/html": [
       "<style type=\"text/css\">\n",
       "#T_0fb3b thead tr th:nth-child(1) {\n",
       "  position: sticky;\n",
       "  background-color: white;\n",
       "  left: 0px;\n",
       "  z-index: 3 !important;\n",
       "}\n",
       "#T_0fb3b tbody tr th:nth-child(1) {\n",
       "  position: sticky;\n",
       "  background-color: white;\n",
       "  left: 0px;\n",
       "  z-index: 1;\n",
       "}\n",
       "#T_0fb3b_row0_col0, #T_0fb3b_row1_col1, #T_0fb3b_row2_col2, #T_0fb3b_row3_col3, #T_0fb3b_row4_col4, #T_0fb3b_row5_col5, #T_0fb3b_row6_col6 {\n",
       "  background-color: #053061;\n",
       "  color: #f1f1f1;\n",
       "}\n",
       "#T_0fb3b_row0_col1, #T_0fb3b_row1_col0 {\n",
       "  background-color: #e37e64;\n",
       "  color: #f1f1f1;\n",
       "}\n",
       "#T_0fb3b_row0_col2, #T_0fb3b_row0_col5, #T_0fb3b_row2_col0, #T_0fb3b_row5_col0 {\n",
       "  background-color: #e27b62;\n",
       "  color: #f1f1f1;\n",
       "}\n",
       "#T_0fb3b_row0_col3, #T_0fb3b_row3_col0 {\n",
       "  background-color: #e48066;\n",
       "  color: #f1f1f1;\n",
       "}\n",
       "#T_0fb3b_row0_col4, #T_0fb3b_row4_col0 {\n",
       "  background-color: #df765e;\n",
       "  color: #f1f1f1;\n",
       "}\n",
       "#T_0fb3b_row0_col6, #T_0fb3b_row6_col0 {\n",
       "  background-color: #7bb6d6;\n",
       "  color: #000000;\n",
       "}\n",
       "#T_0fb3b_row1_col2, #T_0fb3b_row1_col5, #T_0fb3b_row2_col1, #T_0fb3b_row2_col3, #T_0fb3b_row3_col2, #T_0fb3b_row5_col1 {\n",
       "  background-color: #d4e6f1;\n",
       "  color: #000000;\n",
       "}\n",
       "#T_0fb3b_row1_col3, #T_0fb3b_row3_col1, #T_0fb3b_row4_col5, #T_0fb3b_row5_col4 {\n",
       "  background-color: #84bcd9;\n",
       "  color: #000000;\n",
       "}\n",
       "#T_0fb3b_row1_col4, #T_0fb3b_row4_col1 {\n",
       "  background-color: #c5dfec;\n",
       "  color: #000000;\n",
       "}\n",
       "#T_0fb3b_row1_col6, #T_0fb3b_row4_col6, #T_0fb3b_row6_col1, #T_0fb3b_row6_col4 {\n",
       "  background-color: #f6af8e;\n",
       "  color: #000000;\n",
       "}\n",
       "#T_0fb3b_row2_col4, #T_0fb3b_row4_col2 {\n",
       "  background-color: #75b2d4;\n",
       "  color: #f1f1f1;\n",
       "}\n",
       "#T_0fb3b_row2_col5, #T_0fb3b_row5_col2 {\n",
       "  background-color: #6bacd1;\n",
       "  color: #f1f1f1;\n",
       "}\n",
       "#T_0fb3b_row2_col6, #T_0fb3b_row6_col2 {\n",
       "  background-color: #fdddcb;\n",
       "  color: #000000;\n",
       "}\n",
       "#T_0fb3b_row3_col4, #T_0fb3b_row4_col3 {\n",
       "  background-color: #c0dceb;\n",
       "  color: #000000;\n",
       "}\n",
       "#T_0fb3b_row3_col5, #T_0fb3b_row5_col3 {\n",
       "  background-color: #d2e6f0;\n",
       "  color: #000000;\n",
       "}\n",
       "#T_0fb3b_row3_col6, #T_0fb3b_row6_col3 {\n",
       "  background-color: #fcd3bc;\n",
       "  color: #000000;\n",
       "}\n",
       "#T_0fb3b_row5_col6, #T_0fb3b_row6_col5 {\n",
       "  background-color: #f6b394;\n",
       "  color: #000000;\n",
       "}\n",
       "</style>\n",
       "<table id=\"T_0fb3b\">\n",
       "  <thead>\n",
       "    <tr>\n",
       "      <th class=\"blank level0\" >&nbsp;</th>\n",
       "      <th id=\"T_0fb3b_level0_col0\" class=\"col_heading level0 col0\" >CryoSleep</th>\n",
       "      <th id=\"T_0fb3b_level0_col1\" class=\"col_heading level0 col1\" >RoomService</th>\n",
       "      <th id=\"T_0fb3b_level0_col2\" class=\"col_heading level0 col2\" >FoodCourt</th>\n",
       "      <th id=\"T_0fb3b_level0_col3\" class=\"col_heading level0 col3\" >ShoppingMall</th>\n",
       "      <th id=\"T_0fb3b_level0_col4\" class=\"col_heading level0 col4\" >Spa</th>\n",
       "      <th id=\"T_0fb3b_level0_col5\" class=\"col_heading level0 col5\" >VRDeck</th>\n",
       "      <th id=\"T_0fb3b_level0_col6\" class=\"col_heading level0 col6\" >Transported</th>\n",
       "    </tr>\n",
       "  </thead>\n",
       "  <tbody>\n",
       "    <tr>\n",
       "      <th id=\"T_0fb3b_level0_row0\" class=\"row_heading level0 row0\" >CryoSleep</th>\n",
       "      <td id=\"T_0fb3b_row0_col0\" class=\"data row0 col0\" >1.000000</td>\n",
       "      <td id=\"T_0fb3b_row0_col1\" class=\"data row0 col1\" >-0.508773</td>\n",
       "      <td id=\"T_0fb3b_row0_col2\" class=\"data row0 col2\" >-0.522937</td>\n",
       "      <td id=\"T_0fb3b_row0_col3\" class=\"data row0 col3\" >-0.504369</td>\n",
       "      <td id=\"T_0fb3b_row0_col4\" class=\"data row0 col4\" >-0.538649</td>\n",
       "      <td id=\"T_0fb3b_row0_col5\" class=\"data row0 col5\" >-0.517701</td>\n",
       "      <td id=\"T_0fb3b_row0_col6\" class=\"data row0 col6\" >0.460132</td>\n",
       "    </tr>\n",
       "    <tr>\n",
       "      <th id=\"T_0fb3b_level0_row1\" class=\"row_heading level0 row1\" >RoomService</th>\n",
       "      <td id=\"T_0fb3b_row1_col0\" class=\"data row1 col0\" >-0.508773</td>\n",
       "      <td id=\"T_0fb3b_row1_col1\" class=\"data row1 col1\" >1.000000</td>\n",
       "      <td id=\"T_0fb3b_row1_col2\" class=\"data row1 col2\" >0.181157</td>\n",
       "      <td id=\"T_0fb3b_row1_col3\" class=\"data row1 col3\" >0.430106</td>\n",
       "      <td id=\"T_0fb3b_row1_col4\" class=\"data row1 col4\" >0.239521</td>\n",
       "      <td id=\"T_0fb3b_row1_col5\" class=\"data row1 col5\" >0.180872</td>\n",
       "      <td id=\"T_0fb3b_row1_col6\" class=\"data row1 col6\" >-0.363899</td>\n",
       "    </tr>\n",
       "    <tr>\n",
       "      <th id=\"T_0fb3b_level0_row2\" class=\"row_heading level0 row2\" >FoodCourt</th>\n",
       "      <td id=\"T_0fb3b_row2_col0\" class=\"data row2 col0\" >-0.522937</td>\n",
       "      <td id=\"T_0fb3b_row2_col1\" class=\"data row2 col1\" >0.181157</td>\n",
       "      <td id=\"T_0fb3b_row2_col2\" class=\"data row2 col2\" >1.000000</td>\n",
       "      <td id=\"T_0fb3b_row2_col3\" class=\"data row2 col3\" >0.185407</td>\n",
       "      <td id=\"T_0fb3b_row2_col4\" class=\"data row2 col4\" >0.470270</td>\n",
       "      <td id=\"T_0fb3b_row2_col5\" class=\"data row2 col5\" >0.497026</td>\n",
       "      <td id=\"T_0fb3b_row2_col6\" class=\"data row2 col6\" >-0.186388</td>\n",
       "    </tr>\n",
       "    <tr>\n",
       "      <th id=\"T_0fb3b_level0_row3\" class=\"row_heading level0 row3\" >ShoppingMall</th>\n",
       "      <td id=\"T_0fb3b_row3_col0\" class=\"data row3 col0\" >-0.504369</td>\n",
       "      <td id=\"T_0fb3b_row3_col1\" class=\"data row3 col1\" >0.430106</td>\n",
       "      <td id=\"T_0fb3b_row3_col2\" class=\"data row3 col2\" >0.185407</td>\n",
       "      <td id=\"T_0fb3b_row3_col3\" class=\"data row3 col3\" >1.000000</td>\n",
       "      <td id=\"T_0fb3b_row3_col4\" class=\"data row3 col4\" >0.253359</td>\n",
       "      <td id=\"T_0fb3b_row3_col5\" class=\"data row3 col5\" >0.187538</td>\n",
       "      <td id=\"T_0fb3b_row3_col6\" class=\"data row3 col6\" >-0.227018</td>\n",
       "    </tr>\n",
       "    <tr>\n",
       "      <th id=\"T_0fb3b_level0_row4\" class=\"row_heading level0 row4\" >Spa</th>\n",
       "      <td id=\"T_0fb3b_row4_col0\" class=\"data row4 col0\" >-0.538649</td>\n",
       "      <td id=\"T_0fb3b_row4_col1\" class=\"data row4 col1\" >0.239521</td>\n",
       "      <td id=\"T_0fb3b_row4_col2\" class=\"data row4 col2\" >0.470270</td>\n",
       "      <td id=\"T_0fb3b_row4_col3\" class=\"data row4 col3\" >0.253359</td>\n",
       "      <td id=\"T_0fb3b_row4_col4\" class=\"data row4 col4\" >1.000000</td>\n",
       "      <td id=\"T_0fb3b_row4_col5\" class=\"data row4 col5\" >0.437234</td>\n",
       "      <td id=\"T_0fb3b_row4_col6\" class=\"data row4 col6\" >-0.366099</td>\n",
       "    </tr>\n",
       "    <tr>\n",
       "      <th id=\"T_0fb3b_level0_row5\" class=\"row_heading level0 row5\" >VRDeck</th>\n",
       "      <td id=\"T_0fb3b_row5_col0\" class=\"data row5 col0\" >-0.517701</td>\n",
       "      <td id=\"T_0fb3b_row5_col1\" class=\"data row5 col1\" >0.180872</td>\n",
       "      <td id=\"T_0fb3b_row5_col2\" class=\"data row5 col2\" >0.497026</td>\n",
       "      <td id=\"T_0fb3b_row5_col3\" class=\"data row5 col3\" >0.187538</td>\n",
       "      <td id=\"T_0fb3b_row5_col4\" class=\"data row5 col4\" >0.437234</td>\n",
       "      <td id=\"T_0fb3b_row5_col5\" class=\"data row5 col5\" >1.000000</td>\n",
       "      <td id=\"T_0fb3b_row5_col6\" class=\"data row5 col6\" >-0.347008</td>\n",
       "    </tr>\n",
       "    <tr>\n",
       "      <th id=\"T_0fb3b_level0_row6\" class=\"row_heading level0 row6\" >Transported</th>\n",
       "      <td id=\"T_0fb3b_row6_col0\" class=\"data row6 col0\" >0.460132</td>\n",
       "      <td id=\"T_0fb3b_row6_col1\" class=\"data row6 col1\" >-0.363899</td>\n",
       "      <td id=\"T_0fb3b_row6_col2\" class=\"data row6 col2\" >-0.186388</td>\n",
       "      <td id=\"T_0fb3b_row6_col3\" class=\"data row6 col3\" >-0.227018</td>\n",
       "      <td id=\"T_0fb3b_row6_col4\" class=\"data row6 col4\" >-0.366099</td>\n",
       "      <td id=\"T_0fb3b_row6_col5\" class=\"data row6 col5\" >-0.347008</td>\n",
       "      <td id=\"T_0fb3b_row6_col6\" class=\"data row6 col6\" >1.000000</td>\n",
       "    </tr>\n",
       "  </tbody>\n",
       "</table>\n"
      ],
      "text/plain": [
       "<pandas.io.formats.style.Styler at 0x2c6754e1870>"
      ]
     },
     "execution_count": 35,
     "metadata": {},
     "output_type": "execute_result"
    }
   ],
   "source": [
    "(Xtrain\n",
    " .assign(Transported=ytrain==True)\n",
    " .corr(method='spearman')\n",
    " .style\n",
    " .background_gradient(cmap='RdBu',vmax=1,vmin=-1)\n",
    " .set_sticky(axis='index')\n",
    ")"
   ]
  },
  {
   "attachments": {},
   "cell_type": "markdown",
   "metadata": {},
   "source": [
    "It seems that the persons who have billed luxury amenities have a negative relationship with being transported. In simple words, the people who have bills are less likely to be transported."
   ]
  },
  {
   "cell_type": "code",
   "execution_count": 36,
   "metadata": {},
   "outputs": [],
   "source": [
    "# prediction\n",
    "import xgboost as xgb"
   ]
  },
  {
   "cell_type": "code",
   "execution_count": 37,
   "metadata": {},
   "outputs": [],
   "source": [
    "# random_for=xgb.XGBClassifier()\n",
    "model1=xgb.XGBClassifier()\n",
    "\n",
    "\n",
    "model1.fit(Xtrain,ytrain)\n",
    "res=model1.predict(Xtest)"
   ]
  },
  {
   "cell_type": "code",
   "execution_count": 38,
   "metadata": {},
   "outputs": [],
   "source": [
    "# submission\n",
    "result=pd.DataFrame({'PassengerId':raw_test.PassengerId,'Transported':res_encoder.inverse_transform(res)})\n",
    "result.to_csv('submission.csv',index=False)"
   ]
  }
 ],
 "metadata": {
  "kernelspec": {
   "display_name": "Python 3",
   "language": "python",
   "name": "python3"
  },
  "language_info": {
   "codemirror_mode": {
    "name": "ipython",
    "version": 3
   },
   "file_extension": ".py",
   "mimetype": "text/x-python",
   "name": "python",
   "nbconvert_exporter": "python",
   "pygments_lexer": "ipython3",
   "version": "3.10.5"
  },
  "orig_nbformat": 4
 },
 "nbformat": 4,
 "nbformat_minor": 2
}
