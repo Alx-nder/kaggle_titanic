{
 "cells": [
  {
   "cell_type": "markdown",
   "metadata": {},
   "source": [
    "model with only early stopping rounds"
   ]
  },
  {
   "cell_type": "code",
   "execution_count": 1,
   "metadata": {},
   "outputs": [],
   "source": [
    "from wrangling import *\n",
    "\n",
    "# prediction\n",
    "import xgboost as xgb"
   ]
  },
  {
   "cell_type": "code",
   "execution_count": 2,
   "metadata": {},
   "outputs": [
    {
     "name": "stdout",
     "output_type": "stream",
     "text": [
      "[0]\tvalidation_0-error:0.20415\tvalidation_1-error:0.22559\n",
      "[1]\tvalidation_0-error:0.19026\tvalidation_1-error:0.20304\n",
      "[2]\tvalidation_0-error:0.18533\tvalidation_1-error:0.20304\n",
      "[3]\tvalidation_0-error:0.18639\tvalidation_1-error:0.20796\n",
      "[4]\tvalidation_0-error:0.18147\tvalidation_1-error:0.21083\n",
      "[5]\tvalidation_0-error:0.18006\tvalidation_1-error:0.21165\n",
      "[6]\tvalidation_0-error:0.17936\tvalidation_1-error:0.21001\n",
      "[7]\tvalidation_0-error:0.17602\tvalidation_1-error:0.20755\n",
      "[8]\tvalidation_0-error:0.17760\tvalidation_1-error:0.20632\n",
      "[9]\tvalidation_0-error:0.17127\tvalidation_1-error:0.20180\n",
      "[10]\tvalidation_0-error:0.16916\tvalidation_1-error:0.20550\n",
      "[11]\tvalidation_0-error:0.16951\tvalidation_1-error:0.20591\n",
      "[12]\tvalidation_0-error:0.16687\tvalidation_1-error:0.20427\n",
      "[13]\tvalidation_0-error:0.16441\tvalidation_1-error:0.20221\n",
      "[14]\tvalidation_0-error:0.16459\tvalidation_1-error:0.20221\n",
      "[15]\tvalidation_0-error:0.16353\tvalidation_1-error:0.20345\n",
      "[16]\tvalidation_0-error:0.16072\tvalidation_1-error:0.20221\n",
      "[17]\tvalidation_0-error:0.16054\tvalidation_1-error:0.20180\n",
      "[18]\tvalidation_0-error:0.15984\tvalidation_1-error:0.20139\n",
      "[19]\tvalidation_0-error:0.15878\tvalidation_1-error:0.20098\n",
      "[20]\tvalidation_0-error:0.15861\tvalidation_1-error:0.20098\n",
      "[21]\tvalidation_0-error:0.15527\tvalidation_1-error:0.20345\n",
      "[22]\tvalidation_0-error:0.15491\tvalidation_1-error:0.20386\n",
      "[23]\tvalidation_0-error:0.15474\tvalidation_1-error:0.20468\n",
      "[24]\tvalidation_0-error:0.15474\tvalidation_1-error:0.20427\n",
      "[25]\tvalidation_0-error:0.15439\tvalidation_1-error:0.20468\n",
      "[26]\tvalidation_0-error:0.15210\tvalidation_1-error:0.20591\n",
      "[27]\tvalidation_0-error:0.15193\tvalidation_1-error:0.20550\n",
      "[28]\tvalidation_0-error:0.15157\tvalidation_1-error:0.20427\n",
      "[29]\tvalidation_0-error:0.15157\tvalidation_1-error:0.20468\n",
      "[30]\tvalidation_0-error:0.15175\tvalidation_1-error:0.20386\n",
      "[31]\tvalidation_0-error:0.15105\tvalidation_1-error:0.20427\n",
      "[32]\tvalidation_0-error:0.15017\tvalidation_1-error:0.20509\n",
      "[33]\tvalidation_0-error:0.14472\tvalidation_1-error:0.20427\n",
      "[34]\tvalidation_0-error:0.14419\tvalidation_1-error:0.20427\n",
      "[35]\tvalidation_0-error:0.14296\tvalidation_1-error:0.20345\n",
      "[36]\tvalidation_0-error:0.14102\tvalidation_1-error:0.20632\n",
      "[37]\tvalidation_0-error:0.14085\tvalidation_1-error:0.20427\n",
      "[38]\tvalidation_0-error:0.13803\tvalidation_1-error:0.20345\n"
     ]
    },
    {
     "data": {
      "text/plain": [
       "0.7990155865463495"
      ]
     },
     "execution_count": 2,
     "metadata": {},
     "output_type": "execute_result"
    }
   ],
   "source": [
    "\n",
    "xg=xgb.XGBClassifier(early_stopping_rounds=20,eval_metric='error')\n",
    "xg.fit(kag_X_train,kag_y_train,eval_set=[(kag_X_train,kag_y_train),(kag_X_test,kag_y_test)])\n",
    "xg.score(kag_X_test,kag_y_test)\n",
    "# res=xg.predict(Xtest)"
   ]
  },
  {
   "cell_type": "code",
   "execution_count": 3,
   "metadata": {},
   "outputs": [],
   "source": [
    "res=xg.predict(Xtest)"
   ]
  },
  {
   "cell_type": "code",
   "execution_count": 4,
   "metadata": {},
   "outputs": [
    {
     "data": {
      "text/plain": [
       "20"
      ]
     },
     "execution_count": 4,
     "metadata": {},
     "output_type": "execute_result"
    }
   ],
   "source": [
    "xg.best_ntree_limit"
   ]
  },
  {
   "cell_type": "code",
   "execution_count": null,
   "metadata": {},
   "outputs": [],
   "source": [
    "# submission\n",
    "result=pd.DataFrame({'PassengerId':raw_test.PassengerId,'Transported':res_encoder.inverse_transform(res)})\n",
    "result.to_csv('submission2.csv',index=False)"
   ]
  }
 ],
 "metadata": {
  "kernelspec": {
   "display_name": "Python 3",
   "language": "python",
   "name": "python3"
  },
  "language_info": {
   "codemirror_mode": {
    "name": "ipython",
    "version": 3
   },
   "file_extension": ".py",
   "mimetype": "text/x-python",
   "name": "python",
   "nbconvert_exporter": "python",
   "pygments_lexer": "ipython3",
   "version": "3.10.5"
  },
  "orig_nbformat": 4
 },
 "nbformat": 4,
 "nbformat_minor": 2
}
