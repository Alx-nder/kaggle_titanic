{
 "cells": [
  {
   "cell_type": "markdown",
   "metadata": {},
   "source": [
    "model with cross validation hyperparam grid "
   ]
  },
  {
   "cell_type": "code",
   "execution_count": 1,
   "metadata": {},
   "outputs": [],
   "source": [
    "from wrangling import *\n",
    "\n",
    "import xgboost as xgb"
   ]
  },
  {
   "cell_type": "code",
   "execution_count": 2,
   "metadata": {},
   "outputs": [],
   "source": [
    "params={'reg_lambda':[0],\n",
    "        'learning_rate':[.1,.3,.7,.5,.9],\n",
    "        'max_depth':[4,5,7,9,11],\n",
    "        'n_jobs':[-1],\n",
    "        'n_estimators':[20,5,60,7,200,100]}"
   ]
  },
  {
   "cell_type": "code",
   "execution_count": 3,
   "metadata": {},
   "outputs": [
    {
     "name": "stdout",
     "output_type": "stream",
     "text": [
      "[0]\tvalidation_0-error:0.23299\tvalidation_1-error:0.23995\n",
      "[32]\tvalidation_0-error:0.16986\tvalidation_1-error:0.19975\n"
     ]
    },
    {
     "data": {
      "text/plain": [
       "{'learning_rate': 0.3,\n",
       " 'max_depth': 4,\n",
       " 'n_estimators': 60,\n",
       " 'n_jobs': -1,\n",
       " 'reg_lambda': 0}"
      ]
     },
     "execution_count": 3,
     "metadata": {},
     "output_type": "execute_result"
    }
   ],
   "source": [
    "xgrd=xgb.XGBClassifier(early_stopping_rounds=20,eval_metric='error')\n",
    "cv=(model_selection.GridSearchCV(xgrd,params,cv=3,n_jobs=-1)\n",
    "    .fit(kag_X_train,kag_y_train,\n",
    "         eval_set=[(kag_X_train,kag_y_train),(kag_X_test,kag_y_test)],\n",
    "         verbose=50)\n",
    "    \n",
    "    )\n",
    "\n",
    "cv.best_params_"
   ]
  },
  {
   "cell_type": "code",
   "execution_count": 4,
   "metadata": {},
   "outputs": [
    {
     "name": "stdout",
     "output_type": "stream",
     "text": [
      "[0]\tvalidation_0-logloss:0.55430\tvalidation_1-logloss:0.55927\n"
     ]
    },
    {
     "name": "stdout",
     "output_type": "stream",
     "text": [
      "[6]\tvalidation_0-logloss:0.39893\tvalidation_1-logloss:0.42845\n"
     ]
    },
    {
     "data": {
      "text/plain": [
       "0.7961443806398687"
      ]
     },
     "execution_count": 4,
     "metadata": {},
     "output_type": "execute_result"
    }
   ],
   "source": [
    "cvparams={'learning_rate': 0.5,\n",
    " 'max_depth': 4,\n",
    " 'n_estimators': 7,\n",
    " 'n_jobs': -1,\n",
    " 'reg_lambda': 0}\n",
    "\n",
    "nxg=xgb.XGBClassifier(**cvparams,early_stopping_rounds=50)\n",
    "nxg.fit(kag_X_train,kag_y_train,\n",
    "         eval_set=[(kag_X_train,kag_y_train),(kag_X_test,kag_y_test)],\n",
    "         verbose=10)\n",
    "nxg.score(kag_X_test,kag_y_test)"
   ]
  },
  {
   "cell_type": "code",
   "execution_count": 5,
   "metadata": {},
   "outputs": [
    {
     "name": "stdout",
     "output_type": "stream",
     "text": [
      "[0]\tvalidation_0-logloss:0.55054\tvalidation_1-logloss:0.54901\n",
      "[1]\tvalidation_0-logloss:0.48513\tvalidation_1-logloss:0.48683\n",
      "[2]\tvalidation_0-logloss:0.45691\tvalidation_1-logloss:0.45786\n",
      "[3]\tvalidation_0-logloss:0.43630\tvalidation_1-logloss:0.43937\n",
      "[4]\tvalidation_0-logloss:0.42079\tvalidation_1-logloss:0.42489\n",
      "[5]\tvalidation_0-logloss:0.41195\tvalidation_1-logloss:0.41463\n",
      "[6]\tvalidation_0-logloss:0.40485\tvalidation_1-logloss:0.40923\n"
     ]
    }
   ],
   "source": [
    "nxg.fit(Xtrain,ytrain,eval_set=[(kag_X_train,kag_y_train),(kag_X_test,kag_y_test)])\n",
    "res=nxg.predict(Xtest)"
   ]
  },
  {
   "cell_type": "code",
   "execution_count": 6,
   "metadata": {},
   "outputs": [],
   "source": [
    "# submission\n",
    "result=pd.DataFrame({'PassengerId':raw_test.PassengerId,'Transported':res_encoder.inverse_transform(res)})\n",
    "result.to_csv('model4.csv',index=False)"
   ]
  }
 ],
 "metadata": {
  "kernelspec": {
   "display_name": "Python 3",
   "language": "python",
   "name": "python3"
  },
  "language_info": {
   "codemirror_mode": {
    "name": "ipython",
    "version": 3
   },
   "file_extension": ".py",
   "mimetype": "text/x-python",
   "name": "python",
   "nbconvert_exporter": "python",
   "pygments_lexer": "ipython3",
   "version": "3.10.5"
  },
  "orig_nbformat": 4
 },
 "nbformat": 4,
 "nbformat_minor": 2
}
