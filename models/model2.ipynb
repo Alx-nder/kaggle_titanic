{
 "cells": [
  {
   "cell_type": "markdown",
   "metadata": {},
   "source": [
    "default model with only early stopping rounds"
   ]
  },
  {
   "cell_type": "code",
   "execution_count": 1,
   "metadata": {},
   "outputs": [],
   "source": [
    "from wrangling import *\n",
    "\n",
    "# prediction\n",
    "import xgboost as xgb"
   ]
  },
  {
   "cell_type": "code",
   "execution_count": 2,
   "metadata": {},
   "outputs": [
    {
     "name": "stdout",
     "output_type": "stream",
     "text": [
      "[0]\tvalidation_0-error:0.20397\tvalidation_1-error:0.22518\n",
      "[1]\tvalidation_0-error:0.19026\tvalidation_1-error:0.20304\n",
      "[2]\tvalidation_0-error:0.18533\tvalidation_1-error:0.20386\n",
      "[3]\tvalidation_0-error:0.18621\tvalidation_1-error:0.20878\n",
      "[4]\tvalidation_0-error:0.18270\tvalidation_1-error:0.21083\n",
      "[5]\tvalidation_0-error:0.18041\tvalidation_1-error:0.21206\n",
      "[6]\tvalidation_0-error:0.17900\tvalidation_1-error:0.21042\n",
      "[7]\tvalidation_0-error:0.17654\tvalidation_1-error:0.20837\n",
      "[8]\tvalidation_0-error:0.17162\tvalidation_1-error:0.20796\n",
      "[9]\tvalidation_0-error:0.17215\tvalidation_1-error:0.20755\n",
      "[10]\tvalidation_0-error:0.17180\tvalidation_1-error:0.20796\n",
      "[11]\tvalidation_0-error:0.16705\tvalidation_1-error:0.20755\n",
      "[12]\tvalidation_0-error:0.16740\tvalidation_1-error:0.20591\n",
      "[13]\tvalidation_0-error:0.16670\tvalidation_1-error:0.20468\n",
      "[14]\tvalidation_0-error:0.16511\tvalidation_1-error:0.20591\n",
      "[15]\tvalidation_0-error:0.16406\tvalidation_1-error:0.20427\n",
      "[16]\tvalidation_0-error:0.16300\tvalidation_1-error:0.20468\n",
      "[17]\tvalidation_0-error:0.16283\tvalidation_1-error:0.20550\n",
      "[18]\tvalidation_0-error:0.16054\tvalidation_1-error:0.20673\n",
      "[19]\tvalidation_0-error:0.15896\tvalidation_1-error:0.20509\n",
      "[20]\tvalidation_0-error:0.15861\tvalidation_1-error:0.20509\n"
     ]
    },
    {
     "data": {
      "text/plain": [
       "0.7969647251845775"
      ]
     },
     "execution_count": 2,
     "metadata": {},
     "output_type": "execute_result"
    }
   ],
   "source": [
    "\n",
    "xg=xgb.XGBClassifier(early_stopping_rounds=20,eval_metric='error')\n",
    "xg.fit(kag_X_train,kag_y_train,eval_set=[(kag_X_train,kag_y_train),(kag_X_test,kag_y_test)])\n",
    "xg.score(kag_X_test,kag_y_test)\n",
    "# res=xg.predict(Xtest)"
   ]
  },
  {
   "cell_type": "code",
   "execution_count": 3,
   "metadata": {},
   "outputs": [],
   "source": [
    "res=xg.predict(Xtest)"
   ]
  },
  {
   "cell_type": "code",
   "execution_count": 4,
   "metadata": {},
   "outputs": [
    {
     "data": {
      "text/plain": [
       "2"
      ]
     },
     "execution_count": 4,
     "metadata": {},
     "output_type": "execute_result"
    }
   ],
   "source": [
    "xg.best_ntree_limit"
   ]
  },
  {
   "cell_type": "code",
   "execution_count": 5,
   "metadata": {},
   "outputs": [],
   "source": [
    "# submission\n",
    "result=pd.DataFrame({'PassengerId':raw_test.PassengerId,'Transported':res_encoder.inverse_transform(res)})\n",
    "result.to_csv('model2.csv',index=False)"
   ]
  }
 ],
 "metadata": {
  "kernelspec": {
   "display_name": "Python 3",
   "language": "python",
   "name": "python3"
  },
  "language_info": {
   "codemirror_mode": {
    "name": "ipython",
    "version": 3
   },
   "file_extension": ".py",
   "mimetype": "text/x-python",
   "name": "python",
   "nbconvert_exporter": "python",
   "pygments_lexer": "ipython3",
   "version": "3.10.5"
  },
  "orig_nbformat": 4
 },
 "nbformat": 4,
 "nbformat_minor": 2
}
