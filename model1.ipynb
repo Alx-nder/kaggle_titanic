{
 "cells": [
  {
   "cell_type": "code",
   "execution_count": 39,
   "metadata": {},
   "outputs": [],
   "source": [
    "from wrangling import *"
   ]
  },
  {
   "cell_type": "code",
   "execution_count": 40,
   "metadata": {},
   "outputs": [],
   "source": [
    "# prediction\n",
    "import xgboost as xgb"
   ]
  },
  {
   "cell_type": "code",
   "execution_count": 41,
   "metadata": {},
   "outputs": [
    {
     "name": "stdout",
     "output_type": "stream",
     "text": [
      "[0]\tvalidation_0-error:0.21043\tvalidation_1-error:0.22401\n",
      "[1]\tvalidation_0-error:0.19966\tvalidation_1-error:0.21420\n",
      "[2]\tvalidation_0-error:0.19546\tvalidation_1-error:0.20518\n",
      "[3]\tvalidation_0-error:0.19327\tvalidation_1-error:0.20361\n",
      "[4]\tvalidation_0-error:0.19209\tvalidation_1-error:0.20439\n",
      "[5]\tvalidation_0-error:0.19226\tvalidation_1-error:0.19890\n",
      "[6]\tvalidation_0-error:0.18923\tvalidation_1-error:0.19576\n",
      "[7]\tvalidation_0-error:0.18671\tvalidation_1-error:0.19694\n",
      "[8]\tvalidation_0-error:0.18604\tvalidation_1-error:0.19694\n",
      "[9]\tvalidation_0-error:0.18755\tvalidation_1-error:0.19576\n",
      "[10]\tvalidation_0-error:0.18705\tvalidation_1-error:0.19459\n",
      "[11]\tvalidation_0-error:0.18167\tvalidation_1-error:0.19733\n",
      "[12]\tvalidation_0-error:0.18167\tvalidation_1-error:0.19733\n",
      "[13]\tvalidation_0-error:0.18049\tvalidation_1-error:0.19733\n",
      "[14]\tvalidation_0-error:0.17813\tvalidation_1-error:0.19772\n",
      "[15]\tvalidation_0-error:0.17813\tvalidation_1-error:0.19772\n",
      "[16]\tvalidation_0-error:0.17746\tvalidation_1-error:0.19812\n",
      "[17]\tvalidation_0-error:0.17780\tvalidation_1-error:0.20008\n",
      "[18]\tvalidation_0-error:0.17443\tvalidation_1-error:0.19969\n",
      "[19]\tvalidation_0-error:0.17443\tvalidation_1-error:0.19890\n"
     ]
    },
    {
     "name": "stdout",
     "output_type": "stream",
     "text": [
      "[20]\tvalidation_0-error:0.17359\tvalidation_1-error:0.19812\n",
      "[21]\tvalidation_0-error:0.17275\tvalidation_1-error:0.19812\n",
      "[22]\tvalidation_0-error:0.17258\tvalidation_1-error:0.19733\n",
      "[23]\tvalidation_0-error:0.17174\tvalidation_1-error:0.19772\n",
      "[24]\tvalidation_0-error:0.16989\tvalidation_1-error:0.19890\n",
      "[25]\tvalidation_0-error:0.16838\tvalidation_1-error:0.19929\n",
      "[26]\tvalidation_0-error:0.16838\tvalidation_1-error:0.19929\n",
      "[27]\tvalidation_0-error:0.16804\tvalidation_1-error:0.19890\n",
      "[28]\tvalidation_0-error:0.16686\tvalidation_1-error:0.19812\n",
      "[29]\tvalidation_0-error:0.16535\tvalidation_1-error:0.19733\n"
     ]
    },
    {
     "data": {
      "text/plain": [
       "0.8054138877991369"
      ]
     },
     "execution_count": 41,
     "metadata": {},
     "output_type": "execute_result"
    }
   ],
   "source": [
    "\n",
    "xg=xgb.XGBClassifier(early_stopping_rounds=20,eval_metric='error')\n",
    "xg.fit(kag_X_train,kag_y_train,eval_set=[(kag_X_train,kag_y_train),(kag_X_test,kag_y_test)])\n",
    "xg.score(kag_X_test,kag_y_test)\n",
    "# res=xg.predict(Xtest)"
   ]
  },
  {
   "cell_type": "code",
   "execution_count": 42,
   "metadata": {},
   "outputs": [],
   "source": [
    "res=xg.predict(Xtest)"
   ]
  },
  {
   "cell_type": "code",
   "execution_count": 43,
   "metadata": {},
   "outputs": [
    {
     "data": {
      "text/plain": [
       "11"
      ]
     },
     "execution_count": 43,
     "metadata": {},
     "output_type": "execute_result"
    }
   ],
   "source": [
    "xg.best_ntree_limit"
   ]
  },
  {
   "cell_type": "code",
   "execution_count": 44,
   "metadata": {},
   "outputs": [],
   "source": [
    "params={'reg_lambda':[0],\n",
    "        'learning_rate':[.1,.3,.7,.5,.9],\n",
    "        'max_depth':[4,5,7,9,11],\n",
    "        'n_jobs':[-1],\n",
    "        'n_estimators':[20,5,60,7,200,100]}"
   ]
  },
  {
   "cell_type": "code",
   "execution_count": 45,
   "metadata": {},
   "outputs": [
    {
     "name": "stdout",
     "output_type": "stream",
     "text": [
      "[0]\tvalidation_0-error:0.23095\tvalidation_1-error:0.23146\n",
      "[6]\tvalidation_0-error:0.19512\tvalidation_1-error:0.20282\n"
     ]
    },
    {
     "data": {
      "text/plain": [
       "{'learning_rate': 0.5,\n",
       " 'max_depth': 4,\n",
       " 'n_estimators': 7,\n",
       " 'n_jobs': -1,\n",
       " 'reg_lambda': 0}"
      ]
     },
     "execution_count": 45,
     "metadata": {},
     "output_type": "execute_result"
    }
   ],
   "source": [
    "xgrd=xgb.XGBClassifier(early_stopping_rounds=20,eval_metric='error')\n",
    "cv=(model_selection.GridSearchCV(xgrd,params,cv=3,n_jobs=-1)\n",
    "    .fit(kag_X_train,kag_y_train,\n",
    "         eval_set=[(kag_X_train,kag_y_train),(kag_X_test,kag_y_test)],\n",
    "         verbose=50)\n",
    "    \n",
    "    )\n",
    "\n",
    "cv.best_params_"
   ]
  },
  {
   "cell_type": "code",
   "execution_count": 46,
   "metadata": {},
   "outputs": [
    {
     "name": "stdout",
     "output_type": "stream",
     "text": [
      "[0]\tvalidation_0-logloss:0.56083\tvalidation_1-logloss:0.56274\n",
      "[6]\tvalidation_0-logloss:0.43599\tvalidation_1-logloss:0.44742\n"
     ]
    },
    {
     "data": {
      "text/plain": [
       "0.7971753628874069"
      ]
     },
     "execution_count": 46,
     "metadata": {},
     "output_type": "execute_result"
    }
   ],
   "source": [
    "cvparams={'learning_rate': 0.5,\n",
    " 'max_depth': 4,\n",
    " 'n_estimators': 7,\n",
    " 'n_jobs': -1,\n",
    " 'reg_lambda': 0}\n",
    "\n",
    "nxg=xgb.XGBClassifier(**cvparams,early_stopping_rounds=50)\n",
    "nxg.fit(kag_X_train,kag_y_train,\n",
    "         eval_set=[(kag_X_train,kag_y_train),(kag_X_test,kag_y_test)],\n",
    "         verbose=10)\n",
    "nxg.score(kag_X_test,kag_y_test)"
   ]
  },
  {
   "cell_type": "code",
   "execution_count": 47,
   "metadata": {},
   "outputs": [
    {
     "name": "stdout",
     "output_type": "stream",
     "text": [
      "[0]\tvalidation_0-logloss:0.56117\tvalidation_1-logloss:0.56040\n"
     ]
    },
    {
     "name": "stdout",
     "output_type": "stream",
     "text": [
      "[1]\tvalidation_0-logloss:0.50719\tvalidation_1-logloss:0.50500\n",
      "[2]\tvalidation_0-logloss:0.48366\tvalidation_1-logloss:0.47951\n",
      "[3]\tvalidation_0-logloss:0.46599\tvalidation_1-logloss:0.46071\n",
      "[4]\tvalidation_0-logloss:0.45268\tvalidation_1-logloss:0.44775\n",
      "[5]\tvalidation_0-logloss:0.44517\tvalidation_1-logloss:0.43993\n",
      "[6]\tvalidation_0-logloss:0.43734\tvalidation_1-logloss:0.43256\n"
     ]
    }
   ],
   "source": [
    "nxg.fit(Xtrain,ytrain,eval_set=[(kag_X_train,kag_y_train),(kag_X_test,kag_y_test)])\n",
    "res=nxg.predict(Xtest)"
   ]
  },
  {
   "attachments": {},
   "cell_type": "markdown",
   "metadata": {},
   "source": [
    "hyperopt"
   ]
  },
  {
   "cell_type": "code",
   "execution_count": 48,
   "metadata": {},
   "outputs": [],
   "source": [
    "from hyperopt import fmin,tpe,hp,STATUS_OK,Trials\n",
    "from sklearn.metrics import accuracy_score,roc_auc_score\n",
    "\n",
    "from typing import Any, Dict, Union\n",
    "\n",
    "def hyperparameter_tuning(hyperparams: Dict[str,Union[float,int]],\n",
    "                          kag_X_train:pd.DataFrame,\n",
    "                          kag_y_train:pd.Series,\n",
    "                          kag_X_test:pd.DataFrame,\n",
    "                          kag_y_test:pd.Series,\n",
    "                          early_stopping_rounds:int=50,\n",
    "                          metric:callable=accuracy_score)->Dict[str, Any]:\n",
    "    int_vals=['max_depth','reg_alpha']\n",
    "    hyperparams={k:(int(val) if k in int_vals else val)\n",
    "           for k,val in hyperparams.items()}\n",
    "    hyperparams['early_stopping_rounds']= early_stopping_rounds\n",
    "    model = xgb.XGBClassifier(**hyperparams)\n",
    "    evaluation=[(kag_X_train,kag_y_train),(kag_X_test,kag_y_test)]\n",
    "\n",
    "    model.fit(kag_X_train,kag_y_train,\n",
    "              eval_set=evaluation,\n",
    "              verbose=False)\n",
    "    pred=model.predict(kag_X_test)\n",
    "    score=metric(kag_y_test,pred)\n",
    "    return{'loss':-score,'status':STATUS_OK,'model':model}\n",
    "\n",
    "hyperparams={'max_depth':hp.quniform('max_depth',1,8,1),\n",
    "         'min_child_weight':hp.loguniform('min_child_weight',-2,3),\n",
    "         'subsample':hp.uniform('subsample',0.5,1),\n",
    "         'colsample_bytree':hp.uniform('colsample_bytree',0.5,1),\n",
    "         'reg_alpha':hp.uniform('reg_alpha',0,10),\n",
    "         'reg_lambda':hp.uniform('reg_lambda',1,10),\n",
    "         'gamma':hp.loguniform('gamma',-10,10),\n",
    "         'learning_rate':hp.loguniform('learning_rate',-7,0),\n",
    "       #   'random_state':42\n",
    "         }\n"
   ]
  },
  {
   "cell_type": "code",
   "execution_count": 50,
   "metadata": {},
   "outputs": [
    {
     "name": "stdout",
     "output_type": "stream",
     "text": [
      "100%|██████████| 2000/2000 [13:07<00:00,  2.54trial/s, best loss: -0.8109062377402904]\n"
     ]
    },
    {
     "data": {
      "text/plain": [
       "{'colsample_bytree': 0.8037808098513046,\n",
       " 'gamma': 8.519420372081054,\n",
       " 'learning_rate': 0.2047887166422218,\n",
       " 'max_depth': 4.0,\n",
       " 'min_child_weight': 11.28319186084241,\n",
       " 'reg_alpha': 1.2941127471018976,\n",
       " 'reg_lambda': 1.976995326435837,\n",
       " 'subsample': 0.6797060965412611}"
      ]
     },
     "execution_count": 50,
     "metadata": {},
     "output_type": "execute_result"
    }
   ],
   "source": [
    "trials=Trials()\n",
    "best=fmin(fn=lambda hyperparams: hyperparameter_tuning(hyperparams,kag_X_train,kag_y_train,kag_X_test,kag_y_test),\n",
    "          space=hyperparams,\n",
    "          algo=tpe.suggest,\n",
    "          max_evals=2_000,\n",
    "          trials=trials)\n",
    "\n",
    "best"
   ]
  },
  {
   "cell_type": "code",
   "execution_count": 51,
   "metadata": {},
   "outputs": [],
   "source": [
    "# with noisy data\n",
    "# best={'colsample_bytree': 0.8037808098513046,\n",
    "#  'gamma': 8.519420372081054,\n",
    "#  'learning_rate': 0.2047887166422218,\n",
    "#  'max_depth': 4.0,\n",
    "#  'min_child_weight': 11.28319186084241,\n",
    "#  'reg_alpha': 1.2941127471018976,\n",
    "#  'reg_lambda': 1.976995326435837,\n",
    "#  'subsample': 0.6797060965412611}"
   ]
  },
  {
   "cell_type": "code",
   "execution_count": 35,
   "metadata": {},
   "outputs": [],
   "source": [
    "best={'colsample_bytree': 0.7548336147601576,\n",
    " 'gamma': 0.07384394880603823,\n",
    " 'learning_rate': 0.04687842221296814,\n",
    " 'max_depth': 4.0,\n",
    " 'min_child_weight': 0.32575523925747074,\n",
    " 'reg_alpha': 0.45553764910317607,\n",
    " 'reg_lambda': 6.713863245468691,\n",
    " 'subsample': 0.8380129565326875}"
   ]
  },
  {
   "cell_type": "code",
   "execution_count": 52,
   "metadata": {},
   "outputs": [],
   "source": [
    "# hyperopt score\n",
    "best['max_depth']=4\n",
    "xghpt=xgb.XGBClassifier(**best,n_estimators=500)\n",
    "xghpt.fit(Xtrain,ytrain)\n",
    "res=xghpt.predict(Xtest)"
   ]
  },
  {
   "cell_type": "code",
   "execution_count": 18,
   "metadata": {},
   "outputs": [],
   "source": [
    "# high score\n",
    "model1=xgb.XGBClassifier(n_estimators=7,max_depth=8)\n",
    "\n",
    "\n",
    "model1.fit(Xtrain,ytrain)\n",
    "res=model1.predict(Xtest)"
   ]
  },
  {
   "cell_type": "code",
   "execution_count": 53,
   "metadata": {},
   "outputs": [],
   "source": [
    "# submission\n",
    "result=pd.DataFrame({'PassengerId':raw_test.PassengerId,'Transported':res_encoder.inverse_transform(res)})\n",
    "result.to_csv('submission2.csv',index=False)"
   ]
  }
 ],
 "metadata": {
  "kernelspec": {
   "display_name": "Python 3",
   "language": "python",
   "name": "python3"
  },
  "language_info": {
   "codemirror_mode": {
    "name": "ipython",
    "version": 3
   },
   "file_extension": ".py",
   "mimetype": "text/x-python",
   "name": "python",
   "nbconvert_exporter": "python",
   "pygments_lexer": "ipython3",
   "version": "3.10.5"
  },
  "orig_nbformat": 4
 },
 "nbformat": 4,
 "nbformat_minor": 2
}
