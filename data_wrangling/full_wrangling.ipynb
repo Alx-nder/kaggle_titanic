{
 "cells": [
  {
   "cell_type": "markdown",
   "metadata": {},
   "source": [
    "no missing values,\n",
    "replace nan with random "
   ]
  },
  {
   "cell_type": "code",
   "execution_count": 88,
   "metadata": {},
   "outputs": [],
   "source": [
    "import pandas as pd\n",
    "import opendatasets as od\n",
    "import random\n"
   ]
  },
  {
   "cell_type": "code",
   "execution_count": 89,
   "metadata": {},
   "outputs": [],
   "source": [
    "# od.download(\"https://www.kaggle.com/competitions/spaceship-titanic\")"
   ]
  },
  {
   "cell_type": "code",
   "execution_count": 90,
   "metadata": {},
   "outputs": [],
   "source": [
    "raw_data=pd.read_csv(\"/Users/Tyreek ALEXANDER/Documents/kaggle_titanic/spaceship-titanic/train.csv\")\n",
    "# raw_data=raw_data[~raw_data['Cabin'].isnull()]\n"
   ]
  },
  {
   "cell_type": "code",
   "execution_count": 91,
   "metadata": {},
   "outputs": [
    {
     "data": {
      "text/plain": [
       "TRAPPIST-1e      5915\n",
       "55 Cancri e      1800\n",
       "PSO J318.5-22     796\n",
       "NaN               182\n",
       "Name: Destination, dtype: int64"
      ]
     },
     "execution_count": 91,
     "metadata": {},
     "output_type": "execute_result"
    }
   ],
   "source": [
    "raw_data.Destination.value_counts(dropna=False)\n"
   ]
  },
  {
   "cell_type": "code",
   "execution_count": 92,
   "metadata": {},
   "outputs": [],
   "source": [
    "ytrain=raw_data['Transported']"
   ]
  },
  {
   "cell_type": "code",
   "execution_count": 93,
   "metadata": {},
   "outputs": [],
   "source": [
    "\n",
    "\n",
    "def clean_dt(raw_data):\n",
    "    extract_cabin=raw_data.Cabin.str.split('/',expand=True)\n",
    "    return (raw_data\n",
    "    .drop(columns=['Name','Cabin','PassengerId'])\n",
    "    .assign(\n",
    "        Deck=extract_cabin[0].fillna(random.choice(['A','B','C','D','E','F','G','T'])),\n",
    "        Starboard=extract_cabin[2].fillna(random.choice(['S','P'])),\n",
    "\n",
    "        CryoSleep=raw_data.CryoSleep.fillna(random.choice([True,False])),\n",
    "        VIP=raw_data.VIP.fillna(random.choice([True,False])),\n",
    "        \n",
    "        Destination=raw_data.Destination.fillna(random.choice(random.choice(['TRAPPIST-1e','55 Cancri e','PSO J318.5-22']))),\n",
    "        HomePlanet=raw_data.HomePlanet.fillna(random.choice(random.choice(['Earth','Europa','Mars']))),\n",
    "        \n",
    "        ShoppingMall=raw_data.ShoppingMall.fillna(0).replace('nan',0),\n",
    "        Spa=raw_data.Spa.fillna(0).replace('nan',0),\n",
    "        VRDeck=raw_data.VRDeck.fillna(0).replace('nan',0),\n",
    "        FoodCourt=raw_data.FoodCourt.fillna(0).replace('nan',0),\n",
    "        RoomService=raw_data.RoomService.fillna(0).replace('nan',0),\n",
    "        \n",
    "        Age=raw_data.Age.fillna(raw_data.Age.median())\n",
    "        )\n",
    "     \n",
    "    )\n",
    "\n"
   ]
  },
  {
   "cell_type": "code",
   "execution_count": 94,
   "metadata": {},
   "outputs": [],
   "source": [
    " # encoding boolean labels\n",
    "from sklearn import preprocessing\n",
    "\n",
    "def transform_step(raw_data):\n",
    "    label_encoder=preprocessing.LabelEncoder()\n",
    "\n",
    "    raw_data.CryoSleep=label_encoder.fit_transform(raw_data.CryoSleep).astype(int)\n",
    "    raw_data.Starboard=label_encoder.fit_transform(raw_data.Starboard).astype(int)\n",
    "    raw_data.VIP=label_encoder.fit_transform(raw_data.VIP)\n",
    "    \n",
    "    raw_data=pd.get_dummies(raw_data,columns=['Destination','HomePlanet'])\n",
    "    raw_data=pd.get_dummies(raw_data,columns=['Deck'])\n",
    "\n",
    "    return raw_data"
   ]
  },
  {
   "cell_type": "code",
   "execution_count": 95,
   "metadata": {},
   "outputs": [],
   "source": [
    "res_encoder=preprocessing.LabelEncoder()\n",
    "ytrain=res_encoder.fit_transform(ytrain)"
   ]
  },
  {
   "cell_type": "code",
   "execution_count": 96,
   "metadata": {},
   "outputs": [],
   "source": [
    "  \n",
    "Xtrain=clean_dt(raw_data)\n",
    "Xtrain=transform_step(Xtrain)\n",
    "Xtrain.drop(columns=['Transported'],inplace=True)   \n"
   ]
  },
  {
   "cell_type": "code",
   "execution_count": 97,
   "metadata": {},
   "outputs": [],
   "source": [
    "raw_test=pd.read_csv('/Users/Tyreek ALEXANDER/Documents/kaggle_titanic/spaceship-titanic/test.csv')\n",
    "\n",
    "Xtest=clean_dt(raw_test)\n",
    "Xtest=transform_step(Xtest)"
   ]
  },
  {
   "cell_type": "code",
   "execution_count": null,
   "metadata": {},
   "outputs": [],
   "source": [
    "# python -m jupyter nbconvert --to python full_wrangling.ipynb \n",
    "\n"
   ]
  }
 ],
 "metadata": {
  "kernelspec": {
   "display_name": "Python 3",
   "language": "python",
   "name": "python3"
  },
  "language_info": {
   "codemirror_mode": {
    "name": "ipython",
    "version": 3
   },
   "file_extension": ".py",
   "mimetype": "text/x-python",
   "name": "python",
   "nbconvert_exporter": "python",
   "pygments_lexer": "ipython3",
   "version": "3.10.5"
  },
  "orig_nbformat": 4
 },
 "nbformat": 4,
 "nbformat_minor": 2
}
