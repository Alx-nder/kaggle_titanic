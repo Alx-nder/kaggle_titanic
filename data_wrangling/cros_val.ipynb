{
 "cells": [
  {
   "cell_type": "markdown",
   "metadata": {},
   "source": [
    "hyper params inspired by \"https://www.kaggle.com/code/azminetoushikwasi/xgboost-wrangling-with-hyperparameters-guide\""
   ]
  },
  {
   "cell_type": "code",
   "execution_count": 1,
   "metadata": {},
   "outputs": [],
   "source": [
    "from  full_wrangling import * "
   ]
  },
  {
   "cell_type": "code",
   "execution_count": 2,
   "metadata": {},
   "outputs": [],
   "source": [
    "import xgboost as xgb\n"
   ]
  },
  {
   "cell_type": "code",
   "execution_count": 3,
   "metadata": {},
   "outputs": [],
   "source": [
    "def xgb_params(parameters, v_param_name=False,v_param_values=False, br=10):\n",
    "    temp_dmatrix=xgb.DMatrix(data=Xtrain,label=ytrain)\n",
    "\n",
    "    if v_param_values==False:\n",
    "        cv_results=xgb.cv(dtrain=temp_dmatrix, nfold=5,num_boost_round=br,params=parameters,as_pandas=True,seed=69)\n",
    "        return cv_results\n",
    "    else:\n",
    "        results=[]\n",
    "\n",
    "        for v_param_value in v_param_values:\n",
    "            parameters[v_param_name]=v_param_value\n",
    "            cv_results=xgb.cv(dtrain=temp_dmatrix, nfold=5,num_boost_round=br,params=parameters,as_pandas=True,seed=69)\n",
    "            results.append((cv_results['train-auc-mean'].tail().values[-1],cv_results['test-auc-mean'].tail().values[-1]))\n",
    "\n",
    "        data= list(zip(v_param_values,results))\n",
    "        print(pd.DataFrame(data,columns=[v_param_name,'auc']))\n",
    "\n",
    "        return cv_results\n"
   ]
  },
  {
   "cell_type": "code",
   "execution_count": 5,
   "metadata": {},
   "outputs": [
    {
     "data": {
      "text/html": [
       "<div>\n",
       "<style scoped>\n",
       "    .dataframe tbody tr th:only-of-type {\n",
       "        vertical-align: middle;\n",
       "    }\n",
       "\n",
       "    .dataframe tbody tr th {\n",
       "        vertical-align: top;\n",
       "    }\n",
       "\n",
       "    .dataframe thead th {\n",
       "        text-align: right;\n",
       "    }\n",
       "</style>\n",
       "<table border=\"1\" class=\"dataframe\">\n",
       "  <thead>\n",
       "    <tr style=\"text-align: right;\">\n",
       "      <th></th>\n",
       "      <th>train-auc-mean</th>\n",
       "      <th>train-auc-std</th>\n",
       "      <th>test-auc-mean</th>\n",
       "      <th>test-auc-std</th>\n",
       "    </tr>\n",
       "  </thead>\n",
       "  <tbody>\n",
       "    <tr>\n",
       "      <th>0</th>\n",
       "      <td>0.874353</td>\n",
       "      <td>0.001158</td>\n",
       "      <td>0.854462</td>\n",
       "      <td>0.003338</td>\n",
       "    </tr>\n",
       "    <tr>\n",
       "      <th>1</th>\n",
       "      <td>0.891484</td>\n",
       "      <td>0.001311</td>\n",
       "      <td>0.871392</td>\n",
       "      <td>0.005035</td>\n",
       "    </tr>\n",
       "    <tr>\n",
       "      <th>2</th>\n",
       "      <td>0.895598</td>\n",
       "      <td>0.000755</td>\n",
       "      <td>0.873295</td>\n",
       "      <td>0.004661</td>\n",
       "    </tr>\n",
       "    <tr>\n",
       "      <th>3</th>\n",
       "      <td>0.899180</td>\n",
       "      <td>0.000858</td>\n",
       "      <td>0.876235</td>\n",
       "      <td>0.004493</td>\n",
       "    </tr>\n",
       "    <tr>\n",
       "      <th>4</th>\n",
       "      <td>0.902031</td>\n",
       "      <td>0.001553</td>\n",
       "      <td>0.877984</td>\n",
       "      <td>0.004518</td>\n",
       "    </tr>\n",
       "    <tr>\n",
       "      <th>5</th>\n",
       "      <td>0.905001</td>\n",
       "      <td>0.001350</td>\n",
       "      <td>0.879683</td>\n",
       "      <td>0.005455</td>\n",
       "    </tr>\n",
       "    <tr>\n",
       "      <th>6</th>\n",
       "      <td>0.908171</td>\n",
       "      <td>0.001161</td>\n",
       "      <td>0.882205</td>\n",
       "      <td>0.006813</td>\n",
       "    </tr>\n",
       "    <tr>\n",
       "      <th>7</th>\n",
       "      <td>0.911488</td>\n",
       "      <td>0.001042</td>\n",
       "      <td>0.884271</td>\n",
       "      <td>0.006768</td>\n",
       "    </tr>\n",
       "    <tr>\n",
       "      <th>8</th>\n",
       "      <td>0.914065</td>\n",
       "      <td>0.001745</td>\n",
       "      <td>0.885345</td>\n",
       "      <td>0.006622</td>\n",
       "    </tr>\n",
       "    <tr>\n",
       "      <th>9</th>\n",
       "      <td>0.915874</td>\n",
       "      <td>0.001587</td>\n",
       "      <td>0.885520</td>\n",
       "      <td>0.007172</td>\n",
       "    </tr>\n",
       "  </tbody>\n",
       "</table>\n",
       "</div>"
      ],
      "text/plain": [
       "   train-auc-mean  train-auc-std  test-auc-mean  test-auc-std\n",
       "0        0.874353       0.001158       0.854462      0.003338\n",
       "1        0.891484       0.001311       0.871392      0.005035\n",
       "2        0.895598       0.000755       0.873295      0.004661\n",
       "3        0.899180       0.000858       0.876235      0.004493\n",
       "4        0.902031       0.001553       0.877984      0.004518\n",
       "5        0.905001       0.001350       0.879683      0.005455\n",
       "6        0.908171       0.001161       0.882205      0.006813\n",
       "7        0.911488       0.001042       0.884271      0.006768\n",
       "8        0.914065       0.001745       0.885345      0.006622\n",
       "9        0.915874       0.001587       0.885520      0.007172"
      ]
     },
     "execution_count": 5,
     "metadata": {},
     "output_type": "execute_result"
    }
   ],
   "source": [
    "xgb_params({\"objective\":'binary:logistic',\"eval_metric\":\"auc\"})"
   ]
  }
 ],
 "metadata": {
  "kernelspec": {
   "display_name": "Python 3",
   "language": "python",
   "name": "python3"
  },
  "language_info": {
   "codemirror_mode": {
    "name": "ipython",
    "version": 3
   },
   "file_extension": ".py",
   "mimetype": "text/x-python",
   "name": "python",
   "nbconvert_exporter": "python",
   "pygments_lexer": "ipython3",
   "version": "3.10.5"
  },
  "orig_nbformat": 4
 },
 "nbformat": 4,
 "nbformat_minor": 2
}
